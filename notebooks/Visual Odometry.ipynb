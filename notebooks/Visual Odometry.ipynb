{
 "cells": [
  {
   "cell_type": "markdown",
   "metadata": {},
   "source": [
    "# Algorithm to Follow for Performing Visual Odometry\n",
    "\n",
    "Feature Matching and Outlier rejection using RANSAC\n",
    "\n",
    "Estimating Fundamental Matrix\n",
    "\n",
    "Estimating Essential Matrix from Fundamental Matrix\n",
    "\n",
    "Estimate Camera Pose from Essential Matrix\n",
    "\n",
    "Check for Cheirality Condition using Triangulation\n",
    "\n",
    "Perspective-n-Point\n",
    "\n",
    "Bundle Adjustment"
   ]
  },
  {
   "cell_type": "code",
   "execution_count": 88,
   "metadata": {},
   "outputs": [],
   "source": [
    "import numpy as np\n",
    "import scipy\n",
    "import cv2\n",
    "import glob\n",
    "import matplotlib.pyplot as plt\n",
    "from ReadCameraModel import *\n",
    "from UndistortImage import *\n",
    "%matplotlib inline"
   ]
  },
  {
   "cell_type": "code",
   "execution_count": 165,
   "metadata": {},
   "outputs": [],
   "source": [
    "# Data Preparation\n",
    "\n",
    "camera_model = glob.glob('C:\\\\Users\\\\shant\\\\dataset\\\\model\\\\')\n",
    "data_files = glob.glob('C:\\\\Users\\\\shant\\\\dataset\\\\stereo\\\\centre\\\\')\n",
    "\n",
    "def intrinsic_matrix_undistorted_image(images,model_path):\n",
    "    \n",
    "    \"\"\"\n",
    "    Inputs:\n",
    "    \n",
    "    model_path: The path to the model files\n",
    "    images: The input image\n",
    "    \n",
    "    Outputs:\n",
    "    k_matrix: The intrinsic parameters\n",
    "    undistorted_image: The undistorted image\n",
    "    \"\"\"\n",
    "    image = cv2.imread(images)\n",
    "    image = cv2.cvtColor(image, cv2.COLOR_BAYER_GR2BGR)\n",
    "    \n",
    "    fx, fy, cx, cy, G_camera_image, LUT = ReadCameraModel(model_path)\n",
    "    k_matrix = np.zeros((3,3))\n",
    "    k_matrix[0,0] = fx\n",
    "    k_matrix[0,2] = cx\n",
    "    k_matrix[1,1] = fy\n",
    "    k_matrix[1,2] = cy\n",
    "    k_matrix[2,2] = 1\n",
    "    \n",
    "    undistorted_image = UndistortImage(image, LUT)\n",
    "    \n",
    "    return (k_matrix, undistorted_image)\n",
    "\n",
    "# Estimating the Fundamental and Essential Matrix\n",
    "\n",
    "def FundamentalMatrix(input_points, output_correspondence, scaling):\n",
    "    \n",
    "    \"\"\"\n",
    "    Inputs:\n",
    "    input_points: This is a Nx2 Matrix of (x,y) points\n",
    "    output_correspondance: This is a Nx2 Matrix of (x',y') points\n",
    "    scaling: The maximum of the input images width and height\n",
    "    \n",
    "    \"\"\"\n",
    "    # Normalize the input coordinates with the scaling factor\n",
    "    \n",
    "    pts1 = input_points / scaling\n",
    "    pts2 = output_correspondence / scaling\n",
    "    \n",
    "    # List of Fundamental Matrix\n",
    "    F_list = []\n",
    "    \n",
    "    # Transformation matrix for unnormalizing the fundamental matrix\n",
    "    T = np.array([[1/scaling,0,0],[0,1/scaling,0],[0,0,1]])\n",
    "    \n",
    "    # Construct the A matrix \n",
    "    first_row_A = np.array([[pts1[:,0][0]*pts2[:,0][0], pts1[:,0][0]*pts2[:,1][0], pts1[:,0][0], pts1[:,1][0]*pts2[:,0][0], pts1[:,1][0]*pts2[:,1][0], pts1[:,1][0], pts2[:,0][0], pts2[:,1][0], 1]])\n",
    "    second_row_A = np.array([[pts1[:,0][1]*pts2[:,0][1], pts1[:,0][1]*pts2[:,1][1], pts1[:,0][1], pts1[:,1][1]*pts2[:,0][1], pts1[:,1][1]*pts2[:,1][1], pts1[:,1][1], pts2[:,0][1], pts2[:,1][1], 1]])\n",
    "    third_row_A = np.array([[pts1[:,0][2]*pts2[:,0][2], pts1[:,0][2]*pts2[:,1][2], pts1[:,0][2], pts1[:,1][2]*pts2[:,0][2], pts1[:,1][2]*pts2[:,1][2], pts1[:,1][2], pts2[:,0][2], pts2[:,1][2], 1]]) \n",
    "    fourth_row_A = np.array([[pts1[:,0][3]*pts2[:,0][3], pts1[:,0][3]*pts2[:,1][3], pts1[:,0][3], pts1[:,1][3]*pts2[:,0][3], pts1[:,1][3]*pts2[:,1][3], pts1[:,1][3], pts2[:,0][3], pts2[:,1][3], 1]])\n",
    "    fifth_row_A = np.array([[pts1[:,0][4]*pts2[:,0][4], pts1[:,0][4]*pts2[:,1][4], pts1[:,0][4], pts1[:,1][4]*pts2[:,0][4], pts1[:,1][4]*pts2[:,1][4], pts1[:,1][4], pts2[:,0][4], pts2[:,1][4], 1]])\n",
    "    sixth_row_A = np.array([[pts1[:,0][5]*pts2[:,0][5], pts1[:,0][5]*pts2[:,1][5], pts1[:,0][5], pts1[:,1][5]*pts2[:,0][5], pts1[:,1][5]*pts2[:,1][5], pts1[:,1][5], pts2[:,0][5], pts2[:,1][5], 1]])\n",
    "    seventh_row_A = np.array([[pts1[:,0][6]*pts2[:,0][6], pts1[:,0][6]*pts2[:,1][6], pts1[:,0][6], pts1[:,1][6]*pts2[:,0][6], pts1[:,1][6]*pts2[:,1][6], pts1[:,1][6], pts2[:,0][6], pts2[:,1][6], 1]]) \n",
    "    eighth_row_A = np.array([[pts1[:,0][7]*pts2[:,0][7], pts1[:,0][7]*pts2[:,1][7], pts1[:,0][7], pts1[:,1][7]*pts2[:,0][7], pts1[:,1][7]*pts2[:,1][7], pts1[:,1][7], pts2[:,0][7], pts2[:,1][7], 1]])\n",
    "    \n",
    "    # Stack the rows to create the A matrix\n",
    "    A = np.vstack((first_row_A,second_row_A,third_row_A,fourth_row_A,fifth_row_A,sixth_row_A,seventh_row_A,eighth_row_A,np.ones(9)))\n",
    "    # Singular Value Decomposition\n",
    "    U, S, Vh = np.linalg.svd(A)\n",
    "    V = Vh.T\n",
    "    \n",
    "    # Constructing the fundamental matrix by taking the last column of the V matrix as it corresponds to the nullspace eigenvector\n",
    "    fundamental_matrix = V[:,-1]\n",
    "    fundamental_matrix = fundamental_matrix.reshape(3,3)\n",
    "    \n",
    "    # Enforcing Rank 2 constraint\n",
    "    U, sigma, Vh = np.linalg.svd(fundamental_matrix)\n",
    "    sigma[2] = 0\n",
    "    fundamental_matrix = np.matmul(U, np.matmul(np.diag(sigma), Vh))\n",
    "    \n",
    "    # Unnormalize the fundmental matrix\n",
    "    fundamental_matrix = np.matmul(np.matmul(T.T, fundamental_matrix), T)\n",
    "    \n",
    "    F_list.append(fundamental_matrix)\n",
    "    return F_list\n",
    "    \n",
    "def get_keypoints(image1, image2):\n",
    "    \n",
    "    \"\"\"\n",
    "    Inputs:\n",
    "    image1: The left image\n",
    "    image2: The right image\n",
    "    \n",
    "    Outputs:\n",
    "    left_correspondence:\n",
    "    right_correspondence:\n",
    "    \n",
    "    \"\"\"\n",
    "def FundamentalMatrixRansac(input_points, output_correspondence, scaling):\n",
    "    \n",
    "    \"\"\"\n",
    "    Inputs:\n",
    "    input_points: This is a randomly sampled input point correspondence\n",
    "    output_correspondance: This is the output point correspondence\n",
    "    \n",
    "    Outputs:\n",
    "    fundamental_matrix: The refined fundamental matrix after performing RANSAC\n",
    "    \"\"\"\n",
    "    # Convert the correspondences into homogenous coordinates\n",
    "    pts1 = np.hstack(input_points, np.ones(input_points.shape[0],1))\n",
    "    pts2 = np.hstack(output_correspondence, np.ones(output_correspondence.shape[0], 1))\n",
    "    \n",
    "    # Number of iterations\n",
    "    iterations = 1000\n",
    "    \n",
    "    # The threshold error\n",
    "    epsilon = 0.01\n",
    "    \n",
    "    # The indices with value less than the error\n",
    "    best_indices = None\n",
    "    \n",
    "    # Best Fundamental Matrix\n",
    "    best_fundamental_matrix = None\n",
    "    \n",
    "    # Best Inliers\n",
    "    best_inliers = 0\n",
    "    \n",
    "    for i in range(iterations):\n",
    "        \n",
    "        rand_index = np.random.choice(input_points.shape[0], 8, False)\n",
    "        F = FundamentalMatrix(input_points[rand_index], output_correspondence[rand_index],scaling)\n",
    "        \n",
    "        for fundamental_matrix in F:\n",
    "            \n",
    "            # Print a List of indices\n",
    "            indices = np.where(np.abs(np.matmul(pts2, np.matmul(fundamental_matrix, pts.T))).diagonal() < epsilon)[0]\n",
    "            \n",
    "            if len(indices) > best_inliers:\n",
    "                \n",
    "                best_fundamental_matrix = fundamental_matrix\n",
    "                best_indices = indices\n",
    "                best_inliers = len(indices)\n",
    "    \n",
    "def EssentialMatrix(fundamental_matrix, calibration_matrix):\n",
    "    \n",
    "    \"\"\"\n",
    "    Inputs:\n",
    "    fundamental_matrix: The fundamental matrix that gives the epipolar line on which an input point must lie\n",
    "    calibration_matrix: The K matrix responsible for projecting an object in camera coordinates to the image coordinate system\n",
    "    \n",
    "    Ouput:\n",
    "    essential_matrix: The essential matrix giving the relation between the 2 image points\n",
    "    \"\"\"\n",
    "    essential_matrix = np.matmul(calibration_matrix.T, np.matmul(fundamental_matrix,calibration_matrix))\n",
    "    U, sigma, Vh = np.linalg.svd(essential_matrix)\n",
    "    \n",
    "    sigma[0] = 1\n",
    "    sigma[1] = 1\n",
    "    sigma[2] = 0\n",
    "    \n",
    "    essential_matrix = np.matmul(U, np.matmul(np.diag(sigma), Vh))\n",
    "    \n",
    "    return essential_matrix\n",
    "\n",
    "def ExtractCameraPose(essential_matrix):\n",
    "    \n",
    "    \"\"\"\n",
    "    Inputs:\n",
    "    essential_matrix: The Essential Matrix\n",
    "    \n",
    "    Outputs:\n",
    "    Camera Poses\n",
    "    \"\"\"\n",
    "    \n",
    "    W = np.array([[0,-1,0],[1,0,0],[0,0,1]])\n",
    "    \n",
    "    # Perform the Singular Value Decomposition of the Essential Matrix\n",
    "    U, sigma, Vh = np.linalg.svd(essential_matrix)\n",
    "    \n",
    "    # Defining the 4 Camera Poses (c1,r1), (c2,r2), (c3,r3), (c4,r4)\n",
    "    c1 = U[:,3]\n",
    "    c2 = -U[:,3]\n",
    "    c3 = U[:,3]\n",
    "    c4 = -U[:,3]\n",
    "    r1 = np.dot(U, np.dot(W, Vh))\n",
    "    r2 = np.dot(U, np.dot(W, Vh))\n",
    "    r3 = np.dot(U, np.dot(np.transpose(W), Vh))\n",
    "    r4 = np.dot(U, np.dot(np.transpose(W), Vh))\n",
    "    \n",
    "    if np.linalg.det(r1) < 0:\n",
    "        c1 = -c1\n",
    "        r1 = -r1\n",
    "    if np.linalg.det(r2) < 0:\n",
    "        c2 = -c2\n",
    "        r2 = -r2\n",
    "    if np.linalg.det(r3) < 0:\n",
    "        c3 = -c3\n",
    "        r3 = -r3\n",
    "    if np.linalg.det(r4) < 0:\n",
    "        c4 = -c4\n",
    "        r4 = -r4\n",
    "    \n",
    "    # Reshape the translational matrices from 1x3 --> 3x1\n",
    "    c1 = c1.reshape(-1,1)\n",
    "    c2 = c2.reshape(-1,1)\n",
    "    c3 = c3.reshape(-1,1)\n",
    "    c4 = c4.reshape(-1,1)\n",
    "    \n",
    "    return [[np.array(c1), np.array(c2), np.array(c3), np.array(c4)],[np.array(r1), np.array(r2), np.array(r3), np.array(r4)]]\n",
    "\n",
    "# Triangulation Check for Cheirality \n",
    "\n",
    "def LinearTriangulation(camera_pose1, camera_pose2, pts1, pts2):\n",
    "    \n",
    "    \"\"\"\n",
    "    Inputs:\n",
    "    camera_pose1: The camera pose for the first camera (3x4)\n",
    "    camera_pose2: The camera pose for the second camera (3x4)\n",
    "    pts1: The points in left image whose correspondance needs to be found in the right image\n",
    "    pts2: The corresponding points in the right image\n",
    "    \n",
    "    Outputs:\n",
    "    P: x, y, z world coordinates\n",
    "    reprojection_error: The reprojection error from the world frame to the image frame\n",
    "    \"\"\"\n",
    "    P = []\n",
    "    reprojection_error = 0\n",
    "    \n",
    "    # Constructing the A matrix\n",
    "    for i in range(pts1.shape[0]):\n",
    "        \n",
    "        A =  [pts1[i, 0] * camera_pose1[2, :] - camera_pose1[0, :],\n",
    "              pts1[i, 1] * camera_pose1[2, :] - camera_pose1[1, :],\n",
    "              pts2[i, 0] * camera_pose2[2, :] - camera_pose2[0, :],\n",
    "              pts2[i, 1] * camera_pose2[2, :] - camera_pose2[1, :]]\n",
    "        \n",
    "        \n",
    "        # Perform the singular value decomposition of the A matrix\n",
    "        U, sigma, Vh = np.linalg.svd(A)\n",
    "        \n",
    "        # Extract the last row corresponding the nullspace of the linear equation\n",
    "        p = Vh[-1,:]\n",
    "        \n",
    "        # Convert to homogenous coordinates\n",
    "        w = p/p[3]\n",
    "        \n",
    "        # X,Y,Z co-ordinates in the world frame\n",
    "        P.append(w[:3])\n",
    "        \n",
    "        # Checking the Reprojection Error\n",
    "        projection1 = np.dot(camera_pose1, w)\n",
    "        projection2 = np.dot(camera_pose2, w)\n",
    "        \n",
    "        # Calculating the Reprojection error\n",
    "        reprojection_error += np.linalg.norm(projection1[:2]/projection1[-1] - pts1[i])**2 + np.linalg.norm(projection2[:2]/projection[-1] - pts2[i])**2\n",
    "        \n",
    "    return np.asarray(P), reprojection_error\n"
   ]
  },
  {
   "cell_type": "code",
   "execution_count": 195,
   "metadata": {},
   "outputs": [
    {
     "data": {
      "text/plain": [
       "array([8, 9])"
      ]
     },
     "execution_count": 195,
     "metadata": {},
     "output_type": "execute_result"
    }
   ],
   "source": [
    "A = np.array([[1,2],[4,5],[8,9],[12,13]])\n",
    "A[2]"
   ]
  },
  {
   "cell_type": "code",
   "execution_count": 194,
   "metadata": {},
   "outputs": [
    {
     "data": {
      "text/plain": [
       "array([4])"
      ]
     },
     "execution_count": 194,
     "metadata": {},
     "output_type": "execute_result"
    }
   ],
   "source": [
    "x = np.array([[1],[2],[3],[4]])\n",
    "x[-1]"
   ]
  },
  {
   "cell_type": "code",
   "execution_count": 135,
   "metadata": {},
   "outputs": [
    {
     "data": {
      "text/plain": [
       "array([[7, 8],\n",
       "       [4, 5],\n",
       "       [1, 2]])"
      ]
     },
     "execution_count": 135,
     "metadata": {},
     "output_type": "execute_result"
    }
   ],
   "source": [
    "A[[2,1,0]]"
   ]
  },
  {
   "cell_type": "code",
   "execution_count": 173,
   "metadata": {},
   "outputs": [],
   "source": [
    "import scipy\n",
    "A = np.array([[1,8,1,2],[2,9,1,2],[3,10,1,56]])"
   ]
  },
  {
   "cell_type": "code",
   "execution_count": 164,
   "metadata": {},
   "outputs": [
    {
     "data": {
      "text/plain": [
       "(3, 1)"
      ]
     },
     "execution_count": 164,
     "metadata": {},
     "output_type": "execute_result"
    }
   ],
   "source": [
    "A = np.array([[1,2,3]])\n",
    "A.reshape(-1,1).shape"
   ]
  },
  {
   "cell_type": "code",
   "execution_count": 174,
   "metadata": {},
   "outputs": [
    {
     "data": {
      "text/plain": [
       "array([ 3, 10,  1, 56])"
      ]
     },
     "execution_count": 174,
     "metadata": {},
     "output_type": "execute_result"
    }
   ],
   "source": [
    "A[2,:]"
   ]
  },
  {
   "cell_type": "code",
   "execution_count": null,
   "metadata": {},
   "outputs": [],
   "source": []
  }
 ],
 "metadata": {
  "kernelspec": {
   "display_name": "Python 3",
   "language": "python",
   "name": "python3"
  },
  "language_info": {
   "codemirror_mode": {
    "name": "ipython",
    "version": 3
   },
   "file_extension": ".py",
   "mimetype": "text/x-python",
   "name": "python",
   "nbconvert_exporter": "python",
   "pygments_lexer": "ipython3",
   "version": "3.6.10"
  }
 },
 "nbformat": 4,
 "nbformat_minor": 4
}
